{
 "cells": [
  {
   "cell_type": "code",
   "execution_count": 1,
   "id": "4607e86b",
   "metadata": {},
   "outputs": [
    {
     "name": "stdout",
     "output_type": "stream",
     "text": [
      "Collecting imutils\n",
      "  Downloading imutils-0.5.4.tar.gz (17 kB)\n",
      "  Preparing metadata (setup.py): started\n",
      "  Preparing metadata (setup.py): finished with status 'done'\n",
      "Building wheels for collected packages: imutils\n",
      "  Building wheel for imutils (setup.py): started\n",
      "  Building wheel for imutils (setup.py): finished with status 'done'\n",
      "  Created wheel for imutils: filename=imutils-0.5.4-py3-none-any.whl size=25847 sha256=9d36fc6b8dad76ec96b7211478a271991f530690a478db71f837ccf3025c4fb4\n",
      "  Stored in directory: c:\\users\\comp\\appdata\\local\\pip\\cache\\wheels\\c2\\02\\32\\f3617a9f68bcc67eda3ebeb4514eba18f62e81ff439428109d\n",
      "Successfully built imutils\n",
      "Installing collected packages: imutils\n",
      "Successfully installed imutils-0.5.4\n"
     ]
    }
   ],
   "source": [
    "!pip install imutils\n",
    "\n"
   ]
  },
  {
   "cell_type": "code",
   "execution_count": 1,
   "id": "8d555cb0",
   "metadata": {},
   "outputs": [
    {
     "name": "stdout",
     "output_type": "stream",
     "text": [
      "Requirement already satisfied: seaborn in c:\\users\\comp\\appdata\\local\\programs\\python\\python310\\lib\\site-packages (0.12.2)\n",
      "Requirement already satisfied: matplotlib!=3.6.1,>=3.1 in c:\\users\\comp\\appdata\\local\\programs\\python\\python310\\lib\\site-packages (from seaborn) (3.6.0)\n",
      "Requirement already satisfied: pandas>=0.25 in c:\\users\\comp\\appdata\\local\\programs\\python\\python310\\lib\\site-packages (from seaborn) (1.3.5)\n",
      "Requirement already satisfied: numpy!=1.24.0,>=1.17 in c:\\users\\comp\\appdata\\local\\programs\\python\\python310\\lib\\site-packages (from seaborn) (1.23.2)\n",
      "Requirement already satisfied: fonttools>=4.22.0 in c:\\users\\comp\\appdata\\local\\programs\\python\\python310\\lib\\site-packages (from matplotlib!=3.6.1,>=3.1->seaborn) (4.37.3)\n",
      "Requirement already satisfied: cycler>=0.10 in c:\\users\\comp\\appdata\\local\\programs\\python\\python310\\lib\\site-packages (from matplotlib!=3.6.1,>=3.1->seaborn) (0.11.0)\n",
      "Requirement already satisfied: kiwisolver>=1.0.1 in c:\\users\\comp\\appdata\\local\\programs\\python\\python310\\lib\\site-packages (from matplotlib!=3.6.1,>=3.1->seaborn) (1.4.4)\n",
      "Requirement already satisfied: pyparsing>=2.2.1 in c:\\users\\comp\\appdata\\local\\programs\\python\\python310\\lib\\site-packages (from matplotlib!=3.6.1,>=3.1->seaborn) (3.0.9)\n",
      "Requirement already satisfied: python-dateutil>=2.7 in c:\\users\\comp\\appdata\\local\\programs\\python\\python310\\lib\\site-packages (from matplotlib!=3.6.1,>=3.1->seaborn) (2.8.2)\n",
      "Requirement already satisfied: packaging>=20.0 in c:\\users\\comp\\appdata\\local\\programs\\python\\python310\\lib\\site-packages (from matplotlib!=3.6.1,>=3.1->seaborn) (21.3)\n",
      "Requirement already satisfied: contourpy>=1.0.1 in c:\\users\\comp\\appdata\\local\\programs\\python\\python310\\lib\\site-packages (from matplotlib!=3.6.1,>=3.1->seaborn) (1.0.5)\n",
      "Requirement already satisfied: pillow>=6.2.0 in c:\\users\\comp\\appdata\\local\\programs\\python\\python310\\lib\\site-packages (from matplotlib!=3.6.1,>=3.1->seaborn) (9.0.1)\n",
      "Requirement already satisfied: pytz>=2017.3 in c:\\users\\comp\\appdata\\local\\programs\\python\\python310\\lib\\site-packages (from pandas>=0.25->seaborn) (2019.3)\n",
      "Requirement already satisfied: six>=1.5 in c:\\users\\comp\\appdata\\local\\programs\\python\\python310\\lib\\site-packages (from python-dateutil>=2.7->matplotlib!=3.6.1,>=3.1->seaborn) (1.16.0)\n",
      "Note: you may need to restart the kernel to use updated packages.\n"
     ]
    }
   ],
   "source": [
    "pip install seaborn"
   ]
  },
  {
   "cell_type": "code",
   "execution_count": 2,
   "id": "56572069",
   "metadata": {},
   "outputs": [],
   "source": [
    "import numpy as np\n",
    "import pandas as pd\n",
    "from keras.preprocessing.image import ImageDataGenerator\n",
    "import os\n",
    "import random \n",
    "import cv2\n",
    "import imutils\n",
    "import random\n",
    "import matplotlib.pyplot as plt\n",
    "import seaborn as sns\n",
    "from sklearn.preprocessing import LabelBinarizer\n",
    "from keras.utils import np_utils\n",
    "from keras.models import Sequential\n",
    "from keras import optimizers\n",
    "from sklearn.preprocessing import LabelBinarizer\n",
    "from keras import backend as K\n",
    "from keras.layers import Dense, Activation, Flatten, Dense,MaxPooling2D, Dropout\n",
    "from keras.layers import Conv2D, MaxPooling2D, BatchNormalization\n"
   ]
  },
  {
   "cell_type": "code",
   "execution_count": 3,
   "id": "bc450add",
   "metadata": {},
   "outputs": [],
   "source": [
    "dir = \"C:/Users/comp/OneDrive/Desktop/college/Research papers/OCR/archive/dataset/Train\"\n",
    "train_data = []\n",
    "img_size = 32\n",
    "non_chars = [\"#\",\"$\",\"&\",\"@\"]\n",
    "for i in os.listdir(dir):\n",
    "    if i in non_chars:\n",
    "        continue\n",
    "    count = 0\n",
    "    sub_directory = os.path.join(dir,i)\n",
    "    for j in os.listdir(sub_directory):\n",
    "        count+=1\n",
    "        if count > 4000:\n",
    "            break\n",
    "        img = cv2.imread(os.path.join(sub_directory,j),0)\n",
    "        img = cv2.resize(img,(img_size,img_size))\n",
    "        train_data.append([img,i])"
   ]
  },
  {
   "cell_type": "code",
   "execution_count": 4,
   "id": "6bdc744a",
   "metadata": {},
   "outputs": [],
   "source": [
    "val_dir = \"C:/Users/comp/OneDrive/Desktop/college/Research papers/OCR/archive/dataset/Validation\"\n",
    "val_data = []\n",
    "img_size = 32\n",
    "for i in os.listdir(val_dir):\n",
    "    if i in non_chars:\n",
    "        continue\n",
    "    count = 0\n",
    "    sub_directory = os.path.join(val_dir,i)\n",
    "    for j in os.listdir(sub_directory):\n",
    "        count+=1\n",
    "        if count > 1000:\n",
    "            break\n",
    "        img = cv2.imread(os.path.join(sub_directory,j),0)\n",
    "        img = cv2.resize(img,(img_size,img_size))\n",
    "        val_data.append([img,i])"
   ]
  },
  {
   "cell_type": "code",
   "execution_count": 5,
   "id": "30ca7f03",
   "metadata": {},
   "outputs": [],
   "source": [
    "random.shuffle(train_data)\n",
    "random.shuffle(val_data)\n",
    "train_X = []\n",
    "train_Y = []\n",
    "for features,label in train_data:\n",
    "    train_X.append(features)\n",
    "    train_Y.append(label)\n",
    "val_X = []\n",
    "val_Y = []\n",
    "for features,label in val_data:\n",
    "    val_X.append(features)\n",
    "    val_Y.append(label)"
   ]
  },
  {
   "cell_type": "code",
   "execution_count": 6,
   "id": "408990fc",
   "metadata": {},
   "outputs": [
    {
     "name": "stdout",
     "output_type": "stream",
     "text": [
      "(140000, 32, 32, 1) (15209, 32, 32, 1)\n"
     ]
    }
   ],
   "source": [
    "LB = LabelBinarizer()\n",
    "train_Y = LB.fit_transform(train_Y)\n",
    "val_Y = LB.fit_transform(val_Y)\n",
    "train_X = np.array(train_X)/255.0\n",
    "train_X = train_X.reshape(-1,32,32,1)\n",
    "train_Y = np.array(train_Y)\n",
    "val_X = np.array(val_X)/255.0\n",
    "val_X = val_X.reshape(-1,32,32,1)\n",
    "val_Y = np.array(val_Y)\n",
    "print(train_X.shape,val_X.shape)"
   ]
  },
  {
   "cell_type": "code",
   "execution_count": 7,
   "id": "c5440887",
   "metadata": {},
   "outputs": [],
   "source": [
    "model = Sequential()\n",
    "\n",
    "model.add(Conv2D(32, (3, 3), padding = \"same\", activation='relu', input_shape=(32,32,1)))\n",
    "model.add(MaxPooling2D(pool_size=(2,2)))\n",
    "model.add(Conv2D(64, (3, 3), activation='relu'))\n",
    "model.add(MaxPooling2D(pool_size=(2,2)))\n",
    "model.add(Conv2D(128, (3, 3), activation='relu'))\n",
    "model.add(MaxPooling2D(pool_size=(2,2)))\n",
    "model.add(Dropout(0.25))\n",
    " \n",
    "model.add(Flatten())\n",
    "model.add(Dense(128, activation='relu'))\n",
    "model.add(Dropout(0.2))\n",
    "model.add(Dense(35, activation='softmax'))"
   ]
  },
  {
   "cell_type": "code",
   "execution_count": 8,
   "id": "f79dcf19",
   "metadata": {},
   "outputs": [],
   "source": [
    "model.compile(loss='categorical_crossentropy', optimizer=\"adam\",metrics=['accuracy'])"
   ]
  },
  {
   "cell_type": "code",
   "execution_count": 9,
   "id": "84fce1f7",
   "metadata": {},
   "outputs": [
    {
     "name": "stdout",
     "output_type": "stream",
     "text": [
      "Epoch 1/50\n",
      "4375/4375 [==============================] - 191s 43ms/step - loss: 0.5394 - accuracy: 0.8249 - val_loss: 0.7221 - val_accuracy: 0.8382\n",
      "Epoch 2/50\n",
      "4375/4375 [==============================] - 172s 39ms/step - loss: 0.2980 - accuracy: 0.8946 - val_loss: 0.6576 - val_accuracy: 0.8524\n",
      "Epoch 3/50\n",
      "4375/4375 [==============================] - 161s 37ms/step - loss: 0.2582 - accuracy: 0.9065 - val_loss: 0.5797 - val_accuracy: 0.8836\n",
      "Epoch 4/50\n",
      "4375/4375 [==============================] - 166s 38ms/step - loss: 0.2395 - accuracy: 0.9126 - val_loss: 0.6527 - val_accuracy: 0.8717\n",
      "Epoch 5/50\n",
      "4375/4375 [==============================] - 168s 38ms/step - loss: 0.2247 - accuracy: 0.9165 - val_loss: 0.6211 - val_accuracy: 0.8698\n",
      "Epoch 6/50\n",
      "4375/4375 [==============================] - 157s 36ms/step - loss: 0.2127 - accuracy: 0.9208 - val_loss: 0.6509 - val_accuracy: 0.8816\n",
      "Epoch 7/50\n",
      "4375/4375 [==============================] - 158s 36ms/step - loss: 0.2062 - accuracy: 0.9230 - val_loss: 0.6079 - val_accuracy: 0.8753\n",
      "Epoch 8/50\n",
      "4375/4375 [==============================] - 153s 35ms/step - loss: 0.1997 - accuracy: 0.9249 - val_loss: 0.6869 - val_accuracy: 0.8750\n",
      "Epoch 9/50\n",
      "4375/4375 [==============================] - 151s 34ms/step - loss: 0.1935 - accuracy: 0.9263 - val_loss: 0.6717 - val_accuracy: 0.8780\n",
      "Epoch 10/50\n",
      "4375/4375 [==============================] - 152s 35ms/step - loss: 0.1889 - accuracy: 0.9280 - val_loss: 0.7114 - val_accuracy: 0.8776\n",
      "Epoch 11/50\n",
      "4375/4375 [==============================] - 161s 37ms/step - loss: 0.1845 - accuracy: 0.9291 - val_loss: 0.6763 - val_accuracy: 0.8765\n",
      "Epoch 12/50\n",
      "4375/4375 [==============================] - 157s 36ms/step - loss: 0.1795 - accuracy: 0.9303 - val_loss: 0.7500 - val_accuracy: 0.8842\n",
      "Epoch 13/50\n",
      "4375/4375 [==============================] - 170s 39ms/step - loss: 0.1795 - accuracy: 0.9306 - val_loss: 0.6714 - val_accuracy: 0.8594\n",
      "Epoch 14/50\n",
      "4375/4375 [==============================] - 167s 38ms/step - loss: 0.1724 - accuracy: 0.9334 - val_loss: 0.7090 - val_accuracy: 0.8770\n",
      "Epoch 15/50\n",
      "4375/4375 [==============================] - 160s 37ms/step - loss: 0.1719 - accuracy: 0.9334 - val_loss: 0.7835 - val_accuracy: 0.8755\n",
      "Epoch 16/50\n",
      "4375/4375 [==============================] - 157s 36ms/step - loss: 0.1686 - accuracy: 0.9336 - val_loss: 0.7752 - val_accuracy: 0.8740\n",
      "Epoch 17/50\n",
      "4375/4375 [==============================] - 155s 35ms/step - loss: 0.1664 - accuracy: 0.9344 - val_loss: 0.7077 - val_accuracy: 0.8844\n",
      "Epoch 18/50\n",
      "4375/4375 [==============================] - 156s 36ms/step - loss: 0.1656 - accuracy: 0.9349 - val_loss: 0.7832 - val_accuracy: 0.8740\n",
      "Epoch 19/50\n",
      "4375/4375 [==============================] - 166s 38ms/step - loss: 0.1639 - accuracy: 0.9355 - val_loss: 0.7694 - val_accuracy: 0.8812\n",
      "Epoch 20/50\n",
      "4375/4375 [==============================] - 163s 37ms/step - loss: 0.1594 - accuracy: 0.9363 - val_loss: 0.8166 - val_accuracy: 0.8846\n",
      "Epoch 21/50\n",
      "4375/4375 [==============================] - 144s 33ms/step - loss: 0.1618 - accuracy: 0.9362 - val_loss: 0.7822 - val_accuracy: 0.8679\n",
      "Epoch 22/50\n",
      "4375/4375 [==============================] - 139s 32ms/step - loss: 0.1586 - accuracy: 0.9375 - val_loss: 0.7548 - val_accuracy: 0.8776\n",
      "Epoch 23/50\n",
      "4375/4375 [==============================] - 140s 32ms/step - loss: 0.1586 - accuracy: 0.9378 - val_loss: 0.7662 - val_accuracy: 0.8806\n",
      "Epoch 24/50\n",
      "4375/4375 [==============================] - 141s 32ms/step - loss: 0.1568 - accuracy: 0.9377 - val_loss: 0.7732 - val_accuracy: 0.8722\n",
      "Epoch 25/50\n",
      "4375/4375 [==============================] - 138s 32ms/step - loss: 0.1559 - accuracy: 0.9385 - val_loss: 0.8390 - val_accuracy: 0.8696\n",
      "Epoch 26/50\n",
      "4375/4375 [==============================] - 140s 32ms/step - loss: 0.1541 - accuracy: 0.9388 - val_loss: 0.7940 - val_accuracy: 0.8774\n",
      "Epoch 27/50\n",
      "4375/4375 [==============================] - 145s 33ms/step - loss: 0.1532 - accuracy: 0.9396 - val_loss: 0.7964 - val_accuracy: 0.8798\n",
      "Epoch 28/50\n",
      "4375/4375 [==============================] - 146s 33ms/step - loss: 0.1508 - accuracy: 0.9406 - val_loss: 0.8015 - val_accuracy: 0.8836\n",
      "Epoch 29/50\n",
      "4375/4375 [==============================] - 145s 33ms/step - loss: 0.1503 - accuracy: 0.9401 - val_loss: 0.8813 - val_accuracy: 0.8777\n",
      "Epoch 30/50\n",
      "4375/4375 [==============================] - 148s 34ms/step - loss: 0.1510 - accuracy: 0.9405 - val_loss: 0.8022 - val_accuracy: 0.8672\n",
      "Epoch 31/50\n",
      "4375/4375 [==============================] - 147s 33ms/step - loss: 0.1511 - accuracy: 0.9398 - val_loss: 0.8561 - val_accuracy: 0.8857\n",
      "Epoch 32/50\n",
      "4375/4375 [==============================] - 143s 33ms/step - loss: 0.1493 - accuracy: 0.9412 - val_loss: 0.8821 - val_accuracy: 0.8778\n",
      "Epoch 33/50\n",
      "4375/4375 [==============================] - 146s 33ms/step - loss: 0.1484 - accuracy: 0.9417 - val_loss: 0.9172 - val_accuracy: 0.8827\n",
      "Epoch 34/50\n",
      "4375/4375 [==============================] - 146s 33ms/step - loss: 0.1485 - accuracy: 0.9416 - val_loss: 0.8844 - val_accuracy: 0.8781\n",
      "Epoch 35/50\n",
      "4375/4375 [==============================] - 145s 33ms/step - loss: 0.1473 - accuracy: 0.9416 - val_loss: 0.9686 - val_accuracy: 0.8792\n",
      "Epoch 36/50\n",
      "4375/4375 [==============================] - 136s 31ms/step - loss: 0.1482 - accuracy: 0.9417 - val_loss: 0.9409 - val_accuracy: 0.8763\n",
      "Epoch 37/50\n",
      "4375/4375 [==============================] - 142s 32ms/step - loss: 0.1456 - accuracy: 0.9426 - val_loss: 0.8448 - val_accuracy: 0.8884\n",
      "Epoch 38/50\n",
      "4375/4375 [==============================] - 144s 33ms/step - loss: 0.1452 - accuracy: 0.9425 - val_loss: 0.9694 - val_accuracy: 0.8694\n",
      "Epoch 39/50\n",
      "4375/4375 [==============================] - 144s 33ms/step - loss: 0.1457 - accuracy: 0.9420 - val_loss: 0.9572 - val_accuracy: 0.8807\n",
      "Epoch 40/50\n",
      "4375/4375 [==============================] - 135s 31ms/step - loss: 0.1456 - accuracy: 0.9421 - val_loss: 1.0258 - val_accuracy: 0.8734\n",
      "Epoch 41/50\n",
      "4375/4375 [==============================] - 142s 32ms/step - loss: 0.1426 - accuracy: 0.9434 - val_loss: 0.9446 - val_accuracy: 0.8773\n",
      "Epoch 42/50\n",
      "4375/4375 [==============================] - 145s 33ms/step - loss: 0.1450 - accuracy: 0.9435 - val_loss: 0.9143 - val_accuracy: 0.8824\n",
      "Epoch 43/50\n",
      "4375/4375 [==============================] - 147s 34ms/step - loss: 0.1455 - accuracy: 0.9429 - val_loss: 0.9593 - val_accuracy: 0.8782\n",
      "Epoch 44/50\n",
      "4375/4375 [==============================] - 139s 32ms/step - loss: 0.1432 - accuracy: 0.9436 - val_loss: 1.0118 - val_accuracy: 0.8745\n",
      "Epoch 45/50\n",
      "4375/4375 [==============================] - 148s 34ms/step - loss: 0.1437 - accuracy: 0.9428 - val_loss: 0.9195 - val_accuracy: 0.8832\n",
      "Epoch 46/50\n",
      "4375/4375 [==============================] - 144s 33ms/step - loss: 0.1439 - accuracy: 0.9437 - val_loss: 0.9296 - val_accuracy: 0.8805\n",
      "Epoch 47/50\n",
      "4375/4375 [==============================] - 143s 33ms/step - loss: 0.1420 - accuracy: 0.9446 - val_loss: 0.9659 - val_accuracy: 0.8755\n",
      "Epoch 48/50\n",
      "4375/4375 [==============================] - 156s 36ms/step - loss: 0.1424 - accuracy: 0.9443 - val_loss: 0.9799 - val_accuracy: 0.8768\n",
      "Epoch 49/50\n",
      "4375/4375 [==============================] - 145s 33ms/step - loss: 0.1412 - accuracy: 0.9450 - val_loss: 0.9686 - val_accuracy: 0.8762\n",
      "Epoch 50/50\n",
      "4375/4375 [==============================] - 154s 35ms/step - loss: 0.1395 - accuracy: 0.9448 - val_loss: 1.0179 - val_accuracy: 0.8799\n"
     ]
    }
   ],
   "source": [
    "history = model.fit(train_X,train_Y, epochs=50, batch_size=32, validation_data = (val_X, val_Y),  verbose=1)"
   ]
  },
  {
   "cell_type": "code",
   "execution_count": 10,
   "id": "a7dd35c8",
   "metadata": {},
   "outputs": [],
   "source": [
    "def sort_contours(cnts, method=\"left-to-right\"):\n",
    "    reverse = False\n",
    "    i = 0\n",
    "    if method == \"right-to-left\" or method == \"bottom-to-top\":\n",
    "        reverse = True\n",
    "    if method == \"top-to-bottom\" or method == \"bottom-to-top\":\n",
    "        i = 1\n",
    "    boundingBoxes = [cv2.boundingRect(c) for c in cnts]\n",
    "    (cnts, boundingBoxes) = zip(*sorted(zip(cnts, boundingBoxes),\n",
    "    key=lambda b:b[1][i], reverse=reverse))\n",
    "    \n",
    "    return (cnts, boundingBoxes)"
   ]
  },
  {
   "cell_type": "code",
   "execution_count": 11,
   "id": "69dea80b",
   "metadata": {},
   "outputs": [],
   "source": [
    "def get_letters(img):\n",
    "    letters = []\n",
    "    image = cv2.imread(img)\n",
    "    gray = cv2.cvtColor(image, cv2.COLOR_BGR2GRAY)\n",
    "    ret,thresh1 = cv2.threshold(gray ,127,255,cv2.THRESH_BINARY_INV)\n",
    "    dilated = cv2.dilate(thresh1, None, iterations=2)\n",
    "\n",
    "    cnts = cv2.findContours(dilated.copy(), cv2.RETR_EXTERNAL,cv2.CHAIN_APPROX_SIMPLE)\n",
    "    cnts = imutils.grab_contours(cnts)\n",
    "    cnts = sort_contours(cnts, method=\"left-to-right\")[0]\n",
    "    # loop over the contours\n",
    "    for c in cnts:\n",
    "        if cv2.contourArea(c) > 10:\n",
    "            (x, y, w, h) = cv2.boundingRect(c)\n",
    "            cv2.rectangle(image, (x, y), (x + w, y + h), (0, 255, 0), 2)\n",
    "        roi = gray[y:y + h, x:x + w]\n",
    "        thresh = cv2.threshold(roi, 0, 255,cv2.THRESH_BINARY_INV | cv2.THRESH_OTSU)[1]\n",
    "        thresh = cv2.resize(thresh, (32, 32), interpolation = cv2.INTER_CUBIC)\n",
    "        thresh = thresh.astype(\"float32\") / 255.0\n",
    "        thresh = np.expand_dims(thresh, axis=-1)\n",
    "        thresh = thresh.reshape(1,32,32,1)\n",
    "        ypred = model.predict(thresh)\n",
    "        ypred = LB.inverse_transform(ypred)\n",
    "        [x] = ypred\n",
    "        letters.append(x)\n",
    "    return letters, image\n"
   ]
  },
  {
   "cell_type": "code",
   "execution_count": 12,
   "id": "d0771975",
   "metadata": {},
   "outputs": [],
   "source": [
    "def get_word(letter):\n",
    "    word = \"\".join(letter)\n",
    "    return word"
   ]
  },
  {
   "cell_type": "code",
   "execution_count": 15,
   "id": "30bec6f4",
   "metadata": {},
   "outputs": [
    {
     "name": "stdout",
     "output_type": "stream",
     "text": [
      "1/1 [==============================] - 0s 24ms/step\n",
      "1/1 [==============================] - 0s 27ms/step\n",
      "1/1 [==============================] - 0s 22ms/step\n",
      "1/1 [==============================] - 0s 22ms/step\n",
      "1/1 [==============================] - 0s 25ms/step\n",
      "1/1 [==============================] - 0s 22ms/step\n",
      "PARENT\n"
     ]
    },
    {
     "data": {
      "text/plain": [
       "<matplotlib.image.AxesImage at 0x24b31a70d90>"
      ]
     },
     "execution_count": 15,
     "metadata": {},
     "output_type": "execute_result"
    },
    {
     "data": {
      "image/png": "[encoded data removed]",
      "text/plain": [
       "<Figure size 640x480 with 1 Axes>"
      ]
     },
     "metadata": {},
     "output_type": "display_data"
    }
   ],
   "source": [
    "letter,image = get_letters(\"C:/Users/comp/OneDrive/Desktop/college/Research papers/OCR/archive (1)/test_v2/test/TEST_0069.jpg\")\n",
    "word = get_word(letter)\n",
    "print(word)\n",
    "plt.imshow(image)"
   ]
  },
  {
   "cell_type": "code",
   "execution_count": null,
   "id": "e0b403fd",
   "metadata": {},
   "outputs": [],
   "source": []
  }
 ],
 "metadata": {
  "kernelspec": {
   "display_name": "Python 3 (ipykernel)",
   "language": "python",
   "name": "python3"
  },
  "language_info": {
   "codemirror_mode": {
    "name": "ipython",
    "version": 3
   },
   "file_extension": ".py",
   "mimetype": "text/x-python",
   "name": "python",
   "nbconvert_exporter": "python",
   "pygments_lexer": "ipython3",
   "version": "3.10.7"
  }
 },
 "nbformat": 4,
 "nbformat_minor": 5
}
